{
 "cells": [
  {
   "cell_type": "markdown",
   "id": "ebdc1722",
   "metadata": {},
   "source": [
    "# Predictive Modelling Project 2 - River flow prediction\n",
    "## Hayoung Kim, 01603259"
   ]
  },
  {
   "cell_type": "markdown",
   "id": "ca34b909",
   "metadata": {},
   "source": [
    "### 1. Import Packages"
   ]
  },
  {
   "cell_type": "code",
   "execution_count": 1,
   "id": "7ca0ea05",
   "metadata": {},
   "outputs": [],
   "source": [
    "import pandas as pd\n",
    "import numpy as np\n",
    "import matplotlib.pyplot as plt\n",
    "import seaborn as sns\n",
    "%matplotlib inline\n",
    "from collections import Counter\n",
    "from sklearn.ensemble import RandomForestRegressor, AdaBoostRegressor, GradientBoostingRegressor, ExtraTreesRegressor, VotingRegressor\n",
    "from sklearn.linear_model import LogisticRegression, LinearRegression\n",
    "from sklearn.neighbors import KNeighborsRegressor\n",
    "from sklearn.tree import DecisionTreeRegressor\n",
    "from sklearn.neural_network import MLPRegressor\n",
    "from sklearn.discriminant_analysis import LinearDiscriminantAnalysis\n",
    "from sklearn.svm import SVC\n",
    "from sklearn.model_selection import GridSearchCV, cross_val_score, StratifiedKFold, learning_curve\n",
    "sns.set(style='white', context='notebook', palette='deep')\n",
    "from sklearn.preprocessing import StandardScaler\n",
    "from sklearn import preprocessing\n",
    "from sklearn.preprocessing import Normalizer\n",
    "from sklearn.decomposition import PCA\n",
    "# Ignore warnings\n",
    "import warnings    # To suppress warnings\n",
    "warnings.filterwarnings(\"ignore\")\n",
    "from sklearn import metrics\n",
    "from sklearn.model_selection import train_test_split"
   ]
  },
  {
   "cell_type": "markdown",
   "id": "40e3c54e",
   "metadata": {},
   "source": [
    "### 2. Load data"
   ]
  },
  {
   "cell_type": "markdown",
   "id": "2ed32b91",
   "metadata": {},
   "source": [
    "#### 2.1 Load train and Test set"
   ]
  },
  {
   "cell_type": "code",
   "execution_count": 2,
   "id": "062afdf5",
   "metadata": {},
   "outputs": [],
   "source": [
    "train = pd.read_csv(\"train.csv\")\n",
    "test = pd.read_csv(\"test.csv\")\n",
    "#IDtest = test[\"id\"]"
   ]
  },
  {
   "cell_type": "markdown",
   "id": "9ddfc319",
   "metadata": {},
   "source": [
    "### 3. Filling missing values in train dataset"
   ]
  },
  {
   "cell_type": "code",
   "execution_count": 3,
   "id": "62afc029",
   "metadata": {},
   "outputs": [],
   "source": [
    "traincol_list = train.columns.tolist()"
   ]
  },
  {
   "cell_type": "markdown",
   "id": "3b60b2f4",
   "metadata": {},
   "source": [
    "See which rows having any missing value"
   ]
  },
  {
   "cell_type": "code",
   "execution_count": 4,
   "id": "d3ca9fc5",
   "metadata": {},
   "outputs": [
    {
     "name": "stdout",
     "output_type": "stream",
     "text": [
      "[17, 93, 141, 276, 349, 371, 396, 422, 532, 599, 621, 761, 798, 847, 863, 996, 1077, 1103, 1143, 1275, 1336, 1473, 1761, 1812, 1925, 1939, 1991, 2155, 2239, 2501, 2566, 2857, 2902, 3010, 3054, 3122, 3135, 3150, 3260, 3265, 3317, 3355, 3425, 3655, 3746, 3978, 4065, 4235, 4343, 4402, 4489, 4517, 4572, 4607, 4659, 4668, 4676, 4724, 4886, 4898, 4971, 5005, 5063, 5102, 5177, 5217, 5234, 5349, 5357, 5366, 5392, 5410, 5437, 5512, 5523, 5572, 5619, 5669, 5713, 5841, 5852, 6077, 6136, 6143, 6182, 6252, 6261, 6493, 6499, 6512]\n"
     ]
    }
   ],
   "source": [
    "NaN_list = list(train[train.isnull().any(axis=1)].index)\n",
    "print(NaN_list)\n"
   ]
  },
  {
   "cell_type": "code",
   "execution_count": 5,
   "id": "85ebae7a",
   "metadata": {},
   "outputs": [
    {
     "data": {
      "text/plain": [
       "nan"
      ]
     },
     "execution_count": 5,
     "metadata": {},
     "output_type": "execute_result"
    }
   ],
   "source": [
    "train.loc[5852][-9]"
   ]
  },
  {
   "cell_type": "markdown",
   "id": "a1a0714d",
   "metadata": {},
   "source": [
    "Before filling missing values, the value was 'nan'."
   ]
  },
  {
   "cell_type": "markdown",
   "id": "212a2174",
   "metadata": {},
   "source": [
    "##### Filling missing values"
   ]
  },
  {
   "cell_type": "code",
   "execution_count": 6,
   "id": "cb7dd38d",
   "metadata": {},
   "outputs": [],
   "source": [
    "for NaNcol in traincol_list:\n",
    "    train[NaNcol].fillna(value=train[NaNcol].mean(), inplace=True)"
   ]
  },
  {
   "cell_type": "code",
   "execution_count": 7,
   "id": "65cd6ba0",
   "metadata": {},
   "outputs": [
    {
     "name": "stdout",
     "output_type": "stream",
     "text": [
      "46.93219309936325\n"
     ]
    }
   ],
   "source": [
    "print(train.loc[5852][-9])\n"
   ]
  },
  {
   "cell_type": "markdown",
   "id": "8aaf1022",
   "metadata": {},
   "source": [
    "After filling missing values, the value is not 'nan' anymore. The missing value is replaced by the mean of the values in the same column."
   ]
  },
  {
   "cell_type": "markdown",
   "id": "f52c7231",
   "metadata": {},
   "source": [
    "### 4. Split the dataset"
   ]
  },
  {
   "cell_type": "code",
   "execution_count": 8,
   "id": "a026263d",
   "metadata": {},
   "outputs": [],
   "source": [
    "def data_split(X, Y):\n",
    "    X_train, X_test, y_train, y_test = train_test_split(X, Y, test_size=0.2, random_state=42)\n",
    "    return X_train, X_test, y_train, y_test"
   ]
  },
  {
   "cell_type": "code",
   "execution_count": 9,
   "id": "c5ca8f14",
   "metadata": {},
   "outputs": [],
   "source": [
    "X = train.iloc[:,:-8]\n",
    "Y = train.iloc[:,-8:]\n",
    "Xtrain, Xtest, ytrain, ytest = data_split(X, Y)"
   ]
  },
  {
   "cell_type": "markdown",
   "id": "aed49f4f",
   "metadata": {},
   "source": [
    "### 5. Fit the train dataset to the regressor"
   ]
  },
  {
   "cell_type": "markdown",
   "id": "37c5d607",
   "metadata": {},
   "source": [
    "#### 5.1 Choose the regressor"
   ]
  },
  {
   "cell_type": "markdown",
   "id": "4fa94cae",
   "metadata": {},
   "source": [
    "By a number of experiments, I found that 'ExtraTreesRegressor'(Multivariate Regressor) has the lowest RMSE value."
   ]
  },
  {
   "cell_type": "code",
   "execution_count": 10,
   "id": "0ec24780",
   "metadata": {},
   "outputs": [],
   "source": [
    "\n",
    "estimator = ExtraTreesRegressor(random_state=2, n_estimators=94, max_depth = 4000)\n",
    "#estimator = RandomForestRegressor(random_state = random_state)\n",
    "#estimator = KNeighborsRegressor()\n"
   ]
  },
  {
   "cell_type": "markdown",
   "id": "2d446cfc",
   "metadata": {},
   "source": [
    "#### 5.2 Parameter tuning for the selected regressor"
   ]
  },
  {
   "cell_type": "markdown",
   "id": "8ee4d428",
   "metadata": {},
   "source": [
    "I used 'RandomizedSearchCV' for parameter tuning.\n",
    "\n",
    "The only difference between 'RandomizedSearchCV' and 'GridSearchCV' is in grid search we define the combinations and do training of the model whereas in RandomizedSearchCV the model selects the combinations randomly. Both are very effective ways of tuning the parameters that increase the model generalizability."
   ]
  },
  {
   "cell_type": "code",
   "execution_count": 11,
   "id": "c172a58e",
   "metadata": {},
   "outputs": [
    {
     "name": "stdout",
     "output_type": "stream",
     "text": [
      "{'n_estimators': [200, 400, 600, 800, 1000, 1200, 1400, 1600, 1800, 2000], 'max_features': ['auto', 'sqrt'], 'max_depth': [10, 20, 30, 40, 50, 60, 70, 80, 90, 100, 110, None], 'min_samples_split': [2, 5, 10], 'min_samples_leaf': [1, 2, 4], 'bootstrap': [True, False]}\n"
     ]
    }
   ],
   "source": [
    "# Number of trees in the extratrees regressor\n",
    "n_estimators = [int(x) for x in np.linspace(start = 200, stop = 2000, num = 10)]\n",
    "# Number of features to consider at every split\n",
    "max_features = ['auto', 'sqrt']\n",
    "# Maximum number of levels in tree\n",
    "max_depth = [int(x) for x in np.linspace(10, 110, num = 11)]\n",
    "max_depth.append(None)\n",
    "# Minimum number of samples required to split a node\n",
    "min_samples_split = [2, 5, 10]\n",
    "# Minimum number of samples required at each leaf node\n",
    "min_samples_leaf = [1, 2, 4]\n",
    "# Method of selecting samples for training each tree\n",
    "bootstrap = [True, False]\n",
    "\n",
    "# Create the random grid\n",
    "random_grid = {'n_estimators': n_estimators,\n",
    "               'max_features': max_features,\n",
    "               'max_depth': max_depth,\n",
    "               'min_samples_split': min_samples_split,\n",
    "               'min_samples_leaf': min_samples_leaf,\n",
    "               'bootstrap': bootstrap}\n",
    "print(random_grid)\n"
   ]
  },
  {
   "cell_type": "code",
   "execution_count": 12,
   "id": "8bcfd7ea",
   "metadata": {},
   "outputs": [],
   "source": [
    "from sklearn.model_selection import RandomizedSearchCV\n",
    "ext_random = RandomizedSearchCV(estimator = estimator, param_distributions = random_grid, n_iter = 100, cv = 3, verbose=2, random_state=2, n_jobs = -1)\n"
   ]
  },
  {
   "cell_type": "markdown",
   "id": "feb7d1c0",
   "metadata": {},
   "source": [
    "##### After checking the RMSE of the test dataset by split is low enough, I did training on the whole dataset."
   ]
  },
  {
   "cell_type": "code",
   "execution_count": 13,
   "id": "072b6c8f",
   "metadata": {},
   "outputs": [
    {
     "name": "stdout",
     "output_type": "stream",
     "text": [
      "Fitting 3 folds for each of 100 candidates, totalling 300 fits\n"
     ]
    },
    {
     "name": "stderr",
     "output_type": "stream",
     "text": [
      "[Parallel(n_jobs=-1)]: Using backend LokyBackend with 16 concurrent workers.\n",
      "[Parallel(n_jobs=-1)]: Done   9 tasks      | elapsed:   14.3s\n",
      "[Parallel(n_jobs=-1)]: Done 130 tasks      | elapsed:  5.2min\n",
      "[Parallel(n_jobs=-1)]: Done 300 out of 300 | elapsed: 12.3min finished\n"
     ]
    },
    {
     "data": {
      "text/plain": [
       "RandomizedSearchCV(cv=3, error_score=nan,\n",
       "                   estimator=ExtraTreesRegressor(bootstrap=False, ccp_alpha=0.0,\n",
       "                                                 criterion='mse',\n",
       "                                                 max_depth=4000,\n",
       "                                                 max_features='auto',\n",
       "                                                 max_leaf_nodes=None,\n",
       "                                                 max_samples=None,\n",
       "                                                 min_impurity_decrease=0.0,\n",
       "                                                 min_impurity_split=None,\n",
       "                                                 min_samples_leaf=1,\n",
       "                                                 min_samples_split=2,\n",
       "                                                 min_weight_fraction_leaf=0.0,\n",
       "                                                 n_estimators=94, n_jobs=None,\n",
       "                                                 oob_score=False,...\n",
       "                   iid='deprecated', n_iter=100, n_jobs=-1,\n",
       "                   param_distributions={'bootstrap': [True, False],\n",
       "                                        'max_depth': [10, 20, 30, 40, 50, 60,\n",
       "                                                      70, 80, 90, 100, 110,\n",
       "                                                      None],\n",
       "                                        'max_features': ['auto', 'sqrt'],\n",
       "                                        'min_samples_leaf': [1, 2, 4],\n",
       "                                        'min_samples_split': [2, 5, 10],\n",
       "                                        'n_estimators': [200, 400, 600, 800,\n",
       "                                                         1000, 1200, 1400, 1600,\n",
       "                                                         1800, 2000]},\n",
       "                   pre_dispatch='2*n_jobs', random_state=2, refit=True,\n",
       "                   return_train_score=False, scoring=None, verbose=2)"
      ]
     },
     "execution_count": 13,
     "metadata": {},
     "output_type": "execute_result"
    }
   ],
   "source": [
    "# Fit the random search model\n",
    "ext_random.fit(X,Y)"
   ]
  },
  {
   "cell_type": "markdown",
   "id": "323afba9",
   "metadata": {},
   "source": [
    "##### This is for the calculation of the RMSE when I use train and test dataset by split (80:20) for fitting the model."
   ]
  },
  {
   "cell_type": "code",
   "execution_count": 14,
   "id": "843dfdab",
   "metadata": {},
   "outputs": [
    {
     "data": {
      "text/plain": [
       "'from sklearn.metrics import mean_squared_error\\n\\ny_pred = ext_random.predict(Xtest)\\n\\nprint(mean_squared_error(ytest, y_pred, squared=False))'"
      ]
     },
     "execution_count": 14,
     "metadata": {},
     "output_type": "execute_result"
    }
   ],
   "source": [
    "'''from sklearn.metrics import mean_squared_error\n",
    "\n",
    "y_pred = ext_random.predict(Xtest)\n",
    "\n",
    "print(mean_squared_error(ytest, y_pred, squared=False))'''"
   ]
  },
  {
   "cell_type": "markdown",
   "id": "8119c954",
   "metadata": {},
   "source": [
    "### 6. Load test dataset"
   ]
  },
  {
   "cell_type": "code",
   "execution_count": 15,
   "id": "2b5d0978",
   "metadata": {},
   "outputs": [
    {
     "data": {
      "text/html": [
       "<div>\n",
       "<style scoped>\n",
       "    .dataframe tbody tr th:only-of-type {\n",
       "        vertical-align: middle;\n",
       "    }\n",
       "\n",
       "    .dataframe tbody tr th {\n",
       "        vertical-align: top;\n",
       "    }\n",
       "\n",
       "    .dataframe thead th {\n",
       "        text-align: right;\n",
       "    }\n",
       "</style>\n",
       "<table border=\"1\" class=\"dataframe\">\n",
       "  <thead>\n",
       "    <tr style=\"text-align: right;\">\n",
       "      <th></th>\n",
       "      <th>id</th>\n",
       "      <th>CHSI2__0</th>\n",
       "      <th>NASI2__0</th>\n",
       "      <th>EADM7__0</th>\n",
       "      <th>SCLM7__0</th>\n",
       "      <th>CLKM7__0</th>\n",
       "      <th>VALI2__0</th>\n",
       "      <th>NAPM7__0</th>\n",
       "      <th>DLDI4__0</th>\n",
       "      <th>CHSI2__-6</th>\n",
       "      <th>...</th>\n",
       "      <th>NAPM7__-48</th>\n",
       "      <th>DLDI4__-48</th>\n",
       "      <th>CHSI2__-60</th>\n",
       "      <th>NASI2__-60</th>\n",
       "      <th>EADM7__-60</th>\n",
       "      <th>SCLM7__-60</th>\n",
       "      <th>CLKM7__-60</th>\n",
       "      <th>VALI2__-60</th>\n",
       "      <th>NAPM7__-60</th>\n",
       "      <th>DLDI4__-60</th>\n",
       "    </tr>\n",
       "  </thead>\n",
       "  <tbody>\n",
       "    <tr>\n",
       "      <th>0</th>\n",
       "      <td>0</td>\n",
       "      <td>122.0</td>\n",
       "      <td>3.45</td>\n",
       "      <td>112.0</td>\n",
       "      <td>54.9</td>\n",
       "      <td>40.6</td>\n",
       "      <td>16.00</td>\n",
       "      <td>46.2</td>\n",
       "      <td>32.3</td>\n",
       "      <td>125.0</td>\n",
       "      <td>...</td>\n",
       "      <td>46.2</td>\n",
       "      <td>29.8</td>\n",
       "      <td>133.0</td>\n",
       "      <td>3.66</td>\n",
       "      <td>121.0</td>\n",
       "      <td>57.0</td>\n",
       "      <td>48.0</td>\n",
       "      <td>17.10</td>\n",
       "      <td>46.2</td>\n",
       "      <td>29.3</td>\n",
       "    </tr>\n",
       "    <tr>\n",
       "      <th>1</th>\n",
       "      <td>1</td>\n",
       "      <td>151.0</td>\n",
       "      <td>3.36</td>\n",
       "      <td>162.0</td>\n",
       "      <td>61.7</td>\n",
       "      <td>86.6</td>\n",
       "      <td>22.20</td>\n",
       "      <td>46.2</td>\n",
       "      <td>51.9</td>\n",
       "      <td>150.0</td>\n",
       "      <td>...</td>\n",
       "      <td>46.2</td>\n",
       "      <td>55.8</td>\n",
       "      <td>134.0</td>\n",
       "      <td>3.27</td>\n",
       "      <td>139.0</td>\n",
       "      <td>62.2</td>\n",
       "      <td>59.7</td>\n",
       "      <td>15.10</td>\n",
       "      <td>46.2</td>\n",
       "      <td>51.3</td>\n",
       "    </tr>\n",
       "    <tr>\n",
       "      <th>2</th>\n",
       "      <td>2</td>\n",
       "      <td>116.0</td>\n",
       "      <td>3.41</td>\n",
       "      <td>113.0</td>\n",
       "      <td>54.9</td>\n",
       "      <td>42.0</td>\n",
       "      <td>16.20</td>\n",
       "      <td>44.5</td>\n",
       "      <td>33.9</td>\n",
       "      <td>116.0</td>\n",
       "      <td>...</td>\n",
       "      <td>46.2</td>\n",
       "      <td>30.7</td>\n",
       "      <td>128.0</td>\n",
       "      <td>3.62</td>\n",
       "      <td>121.0</td>\n",
       "      <td>56.2</td>\n",
       "      <td>36.4</td>\n",
       "      <td>16.20</td>\n",
       "      <td>46.2</td>\n",
       "      <td>30.1</td>\n",
       "    </tr>\n",
       "    <tr>\n",
       "      <th>3</th>\n",
       "      <td>3</td>\n",
       "      <td>107.0</td>\n",
       "      <td>3.27</td>\n",
       "      <td>105.0</td>\n",
       "      <td>53.7</td>\n",
       "      <td>31.8</td>\n",
       "      <td>11.00</td>\n",
       "      <td>40.3</td>\n",
       "      <td>35.4</td>\n",
       "      <td>107.0</td>\n",
       "      <td>...</td>\n",
       "      <td>43.7</td>\n",
       "      <td>34.1</td>\n",
       "      <td>113.0</td>\n",
       "      <td>3.29</td>\n",
       "      <td>110.0</td>\n",
       "      <td>55.8</td>\n",
       "      <td>42.2</td>\n",
       "      <td>12.50</td>\n",
       "      <td>43.7</td>\n",
       "      <td>34.3</td>\n",
       "    </tr>\n",
       "    <tr>\n",
       "      <th>4</th>\n",
       "      <td>4</td>\n",
       "      <td>78.5</td>\n",
       "      <td>3.28</td>\n",
       "      <td>85.5</td>\n",
       "      <td>44.9</td>\n",
       "      <td>28.5</td>\n",
       "      <td>6.10</td>\n",
       "      <td>42.2</td>\n",
       "      <td>25.4</td>\n",
       "      <td>78.7</td>\n",
       "      <td>...</td>\n",
       "      <td>42.2</td>\n",
       "      <td>39.0</td>\n",
       "      <td>77.7</td>\n",
       "      <td>3.27</td>\n",
       "      <td>85.5</td>\n",
       "      <td>44.5</td>\n",
       "      <td>28.8</td>\n",
       "      <td>3.38</td>\n",
       "      <td>42.2</td>\n",
       "      <td>37.6</td>\n",
       "    </tr>\n",
       "    <tr>\n",
       "      <th>...</th>\n",
       "      <td>...</td>\n",
       "      <td>...</td>\n",
       "      <td>...</td>\n",
       "      <td>...</td>\n",
       "      <td>...</td>\n",
       "      <td>...</td>\n",
       "      <td>...</td>\n",
       "      <td>...</td>\n",
       "      <td>...</td>\n",
       "      <td>...</td>\n",
       "      <td>...</td>\n",
       "      <td>...</td>\n",
       "      <td>...</td>\n",
       "      <td>...</td>\n",
       "      <td>...</td>\n",
       "      <td>...</td>\n",
       "      <td>...</td>\n",
       "      <td>...</td>\n",
       "      <td>...</td>\n",
       "      <td>...</td>\n",
       "      <td>...</td>\n",
       "    </tr>\n",
       "    <tr>\n",
       "      <th>2277</th>\n",
       "      <td>2277</td>\n",
       "      <td>168.0</td>\n",
       "      <td>3.90</td>\n",
       "      <td>153.0</td>\n",
       "      <td>69.6</td>\n",
       "      <td>51.5</td>\n",
       "      <td>25.20</td>\n",
       "      <td>46.4</td>\n",
       "      <td>27.5</td>\n",
       "      <td>172.0</td>\n",
       "      <td>...</td>\n",
       "      <td>47.6</td>\n",
       "      <td>28.0</td>\n",
       "      <td>189.0</td>\n",
       "      <td>3.64</td>\n",
       "      <td>168.0</td>\n",
       "      <td>73.8</td>\n",
       "      <td>56.6</td>\n",
       "      <td>27.40</td>\n",
       "      <td>56.5</td>\n",
       "      <td>28.4</td>\n",
       "    </tr>\n",
       "    <tr>\n",
       "      <th>2278</th>\n",
       "      <td>2278</td>\n",
       "      <td>201.0</td>\n",
       "      <td>3.24</td>\n",
       "      <td>190.0</td>\n",
       "      <td>66.5</td>\n",
       "      <td>76.1</td>\n",
       "      <td>11.00</td>\n",
       "      <td>62.6</td>\n",
       "      <td>47.2</td>\n",
       "      <td>204.0</td>\n",
       "      <td>...</td>\n",
       "      <td>62.6</td>\n",
       "      <td>53.2</td>\n",
       "      <td>239.0</td>\n",
       "      <td>3.31</td>\n",
       "      <td>222.0</td>\n",
       "      <td>71.0</td>\n",
       "      <td>122.0</td>\n",
       "      <td>24.10</td>\n",
       "      <td>62.6</td>\n",
       "      <td>62.1</td>\n",
       "    </tr>\n",
       "    <tr>\n",
       "      <th>2279</th>\n",
       "      <td>2279</td>\n",
       "      <td>132.0</td>\n",
       "      <td>3.29</td>\n",
       "      <td>129.0</td>\n",
       "      <td>70.8</td>\n",
       "      <td>41.8</td>\n",
       "      <td>7.51</td>\n",
       "      <td>66.9</td>\n",
       "      <td>34.8</td>\n",
       "      <td>132.0</td>\n",
       "      <td>...</td>\n",
       "      <td>68.7</td>\n",
       "      <td>34.7</td>\n",
       "      <td>129.0</td>\n",
       "      <td>3.27</td>\n",
       "      <td>134.0</td>\n",
       "      <td>74.4</td>\n",
       "      <td>44.1</td>\n",
       "      <td>6.04</td>\n",
       "      <td>69.0</td>\n",
       "      <td>33.6</td>\n",
       "    </tr>\n",
       "    <tr>\n",
       "      <th>2280</th>\n",
       "      <td>2280</td>\n",
       "      <td>136.0</td>\n",
       "      <td>3.60</td>\n",
       "      <td>126.0</td>\n",
       "      <td>57.3</td>\n",
       "      <td>50.3</td>\n",
       "      <td>16.90</td>\n",
       "      <td>46.2</td>\n",
       "      <td>29.0</td>\n",
       "      <td>134.0</td>\n",
       "      <td>...</td>\n",
       "      <td>46.4</td>\n",
       "      <td>29.4</td>\n",
       "      <td>145.0</td>\n",
       "      <td>3.63</td>\n",
       "      <td>130.0</td>\n",
       "      <td>55.2</td>\n",
       "      <td>48.9</td>\n",
       "      <td>15.50</td>\n",
       "      <td>46.4</td>\n",
       "      <td>32.0</td>\n",
       "    </tr>\n",
       "    <tr>\n",
       "      <th>2281</th>\n",
       "      <td>2281</td>\n",
       "      <td>140.0</td>\n",
       "      <td>3.19</td>\n",
       "      <td>143.0</td>\n",
       "      <td>66.7</td>\n",
       "      <td>43.2</td>\n",
       "      <td>9.90</td>\n",
       "      <td>60.4</td>\n",
       "      <td>29.0</td>\n",
       "      <td>139.0</td>\n",
       "      <td>...</td>\n",
       "      <td>61.9</td>\n",
       "      <td>29.8</td>\n",
       "      <td>156.0</td>\n",
       "      <td>3.23</td>\n",
       "      <td>150.0</td>\n",
       "      <td>69.1</td>\n",
       "      <td>52.3</td>\n",
       "      <td>15.60</td>\n",
       "      <td>62.0</td>\n",
       "      <td>29.0</td>\n",
       "    </tr>\n",
       "  </tbody>\n",
       "</table>\n",
       "<p>2282 rows × 65 columns</p>\n",
       "</div>"
      ],
      "text/plain": [
       "        id  CHSI2__0  NASI2__0  EADM7__0  SCLM7__0  CLKM7__0  VALI2__0  \\\n",
       "0        0     122.0      3.45     112.0      54.9      40.6     16.00   \n",
       "1        1     151.0      3.36     162.0      61.7      86.6     22.20   \n",
       "2        2     116.0      3.41     113.0      54.9      42.0     16.20   \n",
       "3        3     107.0      3.27     105.0      53.7      31.8     11.00   \n",
       "4        4      78.5      3.28      85.5      44.9      28.5      6.10   \n",
       "...    ...       ...       ...       ...       ...       ...       ...   \n",
       "2277  2277     168.0      3.90     153.0      69.6      51.5     25.20   \n",
       "2278  2278     201.0      3.24     190.0      66.5      76.1     11.00   \n",
       "2279  2279     132.0      3.29     129.0      70.8      41.8      7.51   \n",
       "2280  2280     136.0      3.60     126.0      57.3      50.3     16.90   \n",
       "2281  2281     140.0      3.19     143.0      66.7      43.2      9.90   \n",
       "\n",
       "      NAPM7__0  DLDI4__0  CHSI2__-6  ...  NAPM7__-48  DLDI4__-48  CHSI2__-60  \\\n",
       "0         46.2      32.3      125.0  ...        46.2        29.8       133.0   \n",
       "1         46.2      51.9      150.0  ...        46.2        55.8       134.0   \n",
       "2         44.5      33.9      116.0  ...        46.2        30.7       128.0   \n",
       "3         40.3      35.4      107.0  ...        43.7        34.1       113.0   \n",
       "4         42.2      25.4       78.7  ...        42.2        39.0        77.7   \n",
       "...        ...       ...        ...  ...         ...         ...         ...   \n",
       "2277      46.4      27.5      172.0  ...        47.6        28.0       189.0   \n",
       "2278      62.6      47.2      204.0  ...        62.6        53.2       239.0   \n",
       "2279      66.9      34.8      132.0  ...        68.7        34.7       129.0   \n",
       "2280      46.2      29.0      134.0  ...        46.4        29.4       145.0   \n",
       "2281      60.4      29.0      139.0  ...        61.9        29.8       156.0   \n",
       "\n",
       "      NASI2__-60  EADM7__-60  SCLM7__-60  CLKM7__-60  VALI2__-60  NAPM7__-60  \\\n",
       "0           3.66       121.0        57.0        48.0       17.10        46.2   \n",
       "1           3.27       139.0        62.2        59.7       15.10        46.2   \n",
       "2           3.62       121.0        56.2        36.4       16.20        46.2   \n",
       "3           3.29       110.0        55.8        42.2       12.50        43.7   \n",
       "4           3.27        85.5        44.5        28.8        3.38        42.2   \n",
       "...          ...         ...         ...         ...         ...         ...   \n",
       "2277        3.64       168.0        73.8        56.6       27.40        56.5   \n",
       "2278        3.31       222.0        71.0       122.0       24.10        62.6   \n",
       "2279        3.27       134.0        74.4        44.1        6.04        69.0   \n",
       "2280        3.63       130.0        55.2        48.9       15.50        46.4   \n",
       "2281        3.23       150.0        69.1        52.3       15.60        62.0   \n",
       "\n",
       "      DLDI4__-60  \n",
       "0           29.3  \n",
       "1           51.3  \n",
       "2           30.1  \n",
       "3           34.3  \n",
       "4           37.6  \n",
       "...          ...  \n",
       "2277        28.4  \n",
       "2278        62.1  \n",
       "2279        33.6  \n",
       "2280        32.0  \n",
       "2281        29.0  \n",
       "\n",
       "[2282 rows x 65 columns]"
      ]
     },
     "execution_count": 15,
     "metadata": {},
     "output_type": "execute_result"
    }
   ],
   "source": [
    "test_df = pd.read_csv(\"test.csv\")\n",
    "test_df"
   ]
  },
  {
   "cell_type": "markdown",
   "id": "36686fd3",
   "metadata": {},
   "source": [
    "### 7. Filling missing values of the test dataset"
   ]
  },
  {
   "cell_type": "code",
   "execution_count": 16,
   "id": "677ec5c7",
   "metadata": {},
   "outputs": [
    {
     "data": {
      "text/plain": [
       "[152,\n",
       " 484,\n",
       " 511,\n",
       " 513,\n",
       " 549,\n",
       " 613,\n",
       " 688,\n",
       " 691,\n",
       " 774,\n",
       " 809,\n",
       " 811,\n",
       " 862,\n",
       " 1051,\n",
       " 1056,\n",
       " 1059,\n",
       " 1131,\n",
       " 1195,\n",
       " 1291,\n",
       " 1369,\n",
       " 1410,\n",
       " 1430,\n",
       " 1454,\n",
       " 1472,\n",
       " 1660,\n",
       " 1678,\n",
       " 1738,\n",
       " 1763,\n",
       " 1816,\n",
       " 2033,\n",
       " 2214]"
      ]
     },
     "execution_count": 16,
     "metadata": {},
     "output_type": "execute_result"
    }
   ],
   "source": [
    "NaN_list = list(test_df[test_df.isnull().any(axis=1)].index)\n",
    "NaN_list\n"
   ]
  },
  {
   "cell_type": "code",
   "execution_count": 17,
   "id": "4a3f4a3d",
   "metadata": {},
   "outputs": [
    {
     "data": {
      "text/plain": [
       "id            152.0\n",
       "CHSI2__0      134.0\n",
       "NASI2__0        3.5\n",
       "EADM7__0      126.0\n",
       "SCLM7__0       56.5\n",
       "              ...  \n",
       "SCLM7__-60      NaN\n",
       "CLKM7__-60      NaN\n",
       "VALI2__-60      NaN\n",
       "NAPM7__-60      NaN\n",
       "DLDI4__-60      NaN\n",
       "Name: 152, Length: 65, dtype: float64"
      ]
     },
     "execution_count": 17,
     "metadata": {},
     "output_type": "execute_result"
    }
   ],
   "source": [
    "test_df.loc[152]"
   ]
  },
  {
   "cell_type": "markdown",
   "id": "446e625f",
   "metadata": {},
   "source": [
    "Before filling missing values, the value was 'nan'."
   ]
  },
  {
   "cell_type": "markdown",
   "id": "cff6115a",
   "metadata": {},
   "source": [
    "##### Filling missing values"
   ]
  },
  {
   "cell_type": "code",
   "execution_count": 18,
   "id": "28797734",
   "metadata": {},
   "outputs": [],
   "source": [
    "NaNresult_list = test_df.columns.tolist()\n",
    "for NaNcol in NaNresult_list:\n",
    "    test_df[NaNcol].fillna(value=test_df[NaNcol].mean(), inplace=True)"
   ]
  },
  {
   "cell_type": "code",
   "execution_count": 19,
   "id": "578b588a",
   "metadata": {},
   "outputs": [
    {
     "data": {
      "text/plain": [
       "id            152.000000\n",
       "CHSI2__0      134.000000\n",
       "NASI2__0        3.500000\n",
       "EADM7__0      126.000000\n",
       "SCLM7__0       56.500000\n",
       "                 ...    \n",
       "SCLM7__-60     79.583259\n",
       "CLKM7__-60     67.046936\n",
       "VALI2__-60     12.474809\n",
       "NAPM7__-60     61.595826\n",
       "DLDI4__-60     46.763455\n",
       "Name: 152, Length: 65, dtype: float64"
      ]
     },
     "execution_count": 19,
     "metadata": {},
     "output_type": "execute_result"
    }
   ],
   "source": [
    "test_df.loc[152]"
   ]
  },
  {
   "cell_type": "markdown",
   "id": "b55029cf",
   "metadata": {},
   "source": [
    "After filling missing values, the value is not 'nan' anymore. The missing value is replaced by the mean of the values in the same column."
   ]
  },
  {
   "cell_type": "markdown",
   "id": "ef263984",
   "metadata": {},
   "source": [
    "### 8. Predict the output values of the test dataset"
   ]
  },
  {
   "cell_type": "code",
   "execution_count": 20,
   "id": "884cf088",
   "metadata": {},
   "outputs": [],
   "source": [
    "#result_Y = estimator.predict(PCAresult_standard)\n",
    "result_Y = ext_random.predict(test_df.iloc[:,1:])"
   ]
  },
  {
   "cell_type": "code",
   "execution_count": 21,
   "id": "d3ef876d",
   "metadata": {},
   "outputs": [
    {
     "data": {
      "text/plain": [
       "['CHSI2_48H__0',\n",
       " 'NASI2_48H__0',\n",
       " 'EADM7_48H__0',\n",
       " 'SCLM7_48H__0',\n",
       " 'CLKM7_48H__0',\n",
       " 'VALI2_48H__0',\n",
       " 'NAPM7_48H__0',\n",
       " 'DLDI4_48H__0']"
      ]
     },
     "execution_count": 21,
     "metadata": {},
     "output_type": "execute_result"
    }
   ],
   "source": [
    "traincol_list[-8:]"
   ]
  },
  {
   "cell_type": "code",
   "execution_count": 22,
   "id": "0f40c0f9",
   "metadata": {},
   "outputs": [
    {
     "data": {
      "text/html": [
       "<div>\n",
       "<style scoped>\n",
       "    .dataframe tbody tr th:only-of-type {\n",
       "        vertical-align: middle;\n",
       "    }\n",
       "\n",
       "    .dataframe tbody tr th {\n",
       "        vertical-align: top;\n",
       "    }\n",
       "\n",
       "    .dataframe thead th {\n",
       "        text-align: right;\n",
       "    }\n",
       "</style>\n",
       "<table border=\"1\" class=\"dataframe\">\n",
       "  <thead>\n",
       "    <tr style=\"text-align: right;\">\n",
       "      <th></th>\n",
       "      <th>CHSI2_48H__0</th>\n",
       "      <th>NASI2_48H__0</th>\n",
       "      <th>EADM7_48H__0</th>\n",
       "      <th>SCLM7_48H__0</th>\n",
       "      <th>CLKM7_48H__0</th>\n",
       "      <th>VALI2_48H__0</th>\n",
       "      <th>NAPM7_48H__0</th>\n",
       "      <th>DLDI4_48H__0</th>\n",
       "    </tr>\n",
       "    <tr>\n",
       "      <th>id</th>\n",
       "      <th></th>\n",
       "      <th></th>\n",
       "      <th></th>\n",
       "      <th></th>\n",
       "      <th></th>\n",
       "      <th></th>\n",
       "      <th></th>\n",
       "      <th></th>\n",
       "    </tr>\n",
       "  </thead>\n",
       "  <tbody>\n",
       "    <tr>\n",
       "      <th>0</th>\n",
       "      <td>115.008333</td>\n",
       "      <td>3.367900</td>\n",
       "      <td>116.291667</td>\n",
       "      <td>54.570667</td>\n",
       "      <td>45.608333</td>\n",
       "      <td>15.143333</td>\n",
       "      <td>44.403000</td>\n",
       "      <td>34.640333</td>\n",
       "    </tr>\n",
       "    <tr>\n",
       "      <th>1</th>\n",
       "      <td>172.533333</td>\n",
       "      <td>3.326333</td>\n",
       "      <td>163.441667</td>\n",
       "      <td>61.201833</td>\n",
       "      <td>83.732333</td>\n",
       "      <td>15.490000</td>\n",
       "      <td>51.732333</td>\n",
       "      <td>34.980000</td>\n",
       "    </tr>\n",
       "    <tr>\n",
       "      <th>2</th>\n",
       "      <td>117.978333</td>\n",
       "      <td>3.377817</td>\n",
       "      <td>118.000000</td>\n",
       "      <td>53.300500</td>\n",
       "      <td>47.027917</td>\n",
       "      <td>12.509750</td>\n",
       "      <td>43.614667</td>\n",
       "      <td>34.826333</td>\n",
       "    </tr>\n",
       "    <tr>\n",
       "      <th>3</th>\n",
       "      <td>108.063889</td>\n",
       "      <td>3.461270</td>\n",
       "      <td>104.159907</td>\n",
       "      <td>50.802032</td>\n",
       "      <td>38.137333</td>\n",
       "      <td>13.249875</td>\n",
       "      <td>40.615833</td>\n",
       "      <td>34.584593</td>\n",
       "    </tr>\n",
       "    <tr>\n",
       "      <th>4</th>\n",
       "      <td>78.474452</td>\n",
       "      <td>3.319521</td>\n",
       "      <td>85.502000</td>\n",
       "      <td>44.512521</td>\n",
       "      <td>33.273190</td>\n",
       "      <td>5.578272</td>\n",
       "      <td>42.203500</td>\n",
       "      <td>23.371704</td>\n",
       "    </tr>\n",
       "    <tr>\n",
       "      <th>...</th>\n",
       "      <td>...</td>\n",
       "      <td>...</td>\n",
       "      <td>...</td>\n",
       "      <td>...</td>\n",
       "      <td>...</td>\n",
       "      <td>...</td>\n",
       "      <td>...</td>\n",
       "      <td>...</td>\n",
       "    </tr>\n",
       "    <tr>\n",
       "      <th>2277</th>\n",
       "      <td>154.624167</td>\n",
       "      <td>3.783700</td>\n",
       "      <td>142.420333</td>\n",
       "      <td>71.646783</td>\n",
       "      <td>49.207667</td>\n",
       "      <td>19.120500</td>\n",
       "      <td>46.394500</td>\n",
       "      <td>33.218367</td>\n",
       "    </tr>\n",
       "    <tr>\n",
       "      <th>2278</th>\n",
       "      <td>151.960000</td>\n",
       "      <td>3.286517</td>\n",
       "      <td>140.163333</td>\n",
       "      <td>66.210333</td>\n",
       "      <td>76.030500</td>\n",
       "      <td>12.948667</td>\n",
       "      <td>62.560333</td>\n",
       "      <td>63.100500</td>\n",
       "    </tr>\n",
       "    <tr>\n",
       "      <th>2279</th>\n",
       "      <td>122.405000</td>\n",
       "      <td>3.295967</td>\n",
       "      <td>124.108333</td>\n",
       "      <td>69.209167</td>\n",
       "      <td>41.516667</td>\n",
       "      <td>6.308050</td>\n",
       "      <td>65.743000</td>\n",
       "      <td>33.728667</td>\n",
       "    </tr>\n",
       "    <tr>\n",
       "      <th>2280</th>\n",
       "      <td>127.205000</td>\n",
       "      <td>3.582898</td>\n",
       "      <td>123.881667</td>\n",
       "      <td>55.935643</td>\n",
       "      <td>40.594774</td>\n",
       "      <td>16.427357</td>\n",
       "      <td>46.182333</td>\n",
       "      <td>30.379340</td>\n",
       "    </tr>\n",
       "    <tr>\n",
       "      <th>2281</th>\n",
       "      <td>132.037181</td>\n",
       "      <td>3.288306</td>\n",
       "      <td>136.647805</td>\n",
       "      <td>66.797643</td>\n",
       "      <td>50.229937</td>\n",
       "      <td>12.315371</td>\n",
       "      <td>60.001681</td>\n",
       "      <td>30.698226</td>\n",
       "    </tr>\n",
       "  </tbody>\n",
       "</table>\n",
       "<p>2282 rows × 8 columns</p>\n",
       "</div>"
      ],
      "text/plain": [
       "      CHSI2_48H__0  NASI2_48H__0  EADM7_48H__0  SCLM7_48H__0  CLKM7_48H__0  \\\n",
       "id                                                                           \n",
       "0       115.008333      3.367900    116.291667     54.570667     45.608333   \n",
       "1       172.533333      3.326333    163.441667     61.201833     83.732333   \n",
       "2       117.978333      3.377817    118.000000     53.300500     47.027917   \n",
       "3       108.063889      3.461270    104.159907     50.802032     38.137333   \n",
       "4        78.474452      3.319521     85.502000     44.512521     33.273190   \n",
       "...            ...           ...           ...           ...           ...   \n",
       "2277    154.624167      3.783700    142.420333     71.646783     49.207667   \n",
       "2278    151.960000      3.286517    140.163333     66.210333     76.030500   \n",
       "2279    122.405000      3.295967    124.108333     69.209167     41.516667   \n",
       "2280    127.205000      3.582898    123.881667     55.935643     40.594774   \n",
       "2281    132.037181      3.288306    136.647805     66.797643     50.229937   \n",
       "\n",
       "      VALI2_48H__0  NAPM7_48H__0  DLDI4_48H__0  \n",
       "id                                              \n",
       "0        15.143333     44.403000     34.640333  \n",
       "1        15.490000     51.732333     34.980000  \n",
       "2        12.509750     43.614667     34.826333  \n",
       "3        13.249875     40.615833     34.584593  \n",
       "4         5.578272     42.203500     23.371704  \n",
       "...            ...           ...           ...  \n",
       "2277     19.120500     46.394500     33.218367  \n",
       "2278     12.948667     62.560333     63.100500  \n",
       "2279      6.308050     65.743000     33.728667  \n",
       "2280     16.427357     46.182333     30.379340  \n",
       "2281     12.315371     60.001681     30.698226  \n",
       "\n",
       "[2282 rows x 8 columns]"
      ]
     },
     "execution_count": 22,
     "metadata": {},
     "output_type": "execute_result"
    }
   ],
   "source": [
    "result_df = pd.DataFrame(result_Y, columns = traincol_list[-8:])\n",
    "\n",
    "result_df.index.name = 'id'\n",
    "result_df"
   ]
  },
  {
   "cell_type": "code",
   "execution_count": 23,
   "id": "0b375be9",
   "metadata": {},
   "outputs": [],
   "source": [
    "result_df.to_csv('61_river.csv') "
   ]
  },
  {
   "cell_type": "code",
   "execution_count": null,
   "id": "4a0501b8",
   "metadata": {},
   "outputs": [],
   "source": []
  },
  {
   "cell_type": "code",
   "execution_count": null,
   "id": "cbbded60",
   "metadata": {},
   "outputs": [],
   "source": []
  },
  {
   "cell_type": "code",
   "execution_count": null,
   "id": "9c28034f",
   "metadata": {},
   "outputs": [],
   "source": []
  }
 ],
 "metadata": {
  "kernelspec": {
   "display_name": "Python 3",
   "language": "python",
   "name": "python3"
  },
  "language_info": {
   "codemirror_mode": {
    "name": "ipython",
    "version": 3
   },
   "file_extension": ".py",
   "mimetype": "text/x-python",
   "name": "python",
   "nbconvert_exporter": "python",
   "pygments_lexer": "ipython3",
   "version": "3.8.5"
  }
 },
 "nbformat": 4,
 "nbformat_minor": 5
}
